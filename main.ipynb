{
 "cells": [
  {
   "cell_type": "markdown",
   "id": "14076e0e",
   "metadata": {},
   "source": [
    "<h1>TASK 3</h1>\n",
    "\n",
    "Build a decision tree classifier to predict whether a customer will purchase a product or service based on their demographic and behavioral data. Use a dataset such as the Bank Marketing dataset from the UCI Machine Learning Repository\n",
    "\n"
   ]
  },
  {
   "cell_type": "markdown",
   "id": "188cfd9b",
   "metadata": {},
   "source": [
    "\n",
    "  <h1>Bank Marketing Campaign Data</h1>\n",
    "  <p>This data is related to direct marketing campaigns (phone calls) of a Portuguese banking institution. The classification goal is to predict if the client will subscribe to a term deposit.</p>\n",
    "  \n",
    "  <table>\n",
    "    <tr>\n",
    "      <th>Variable Name</th>\n",
    "      <th>Role</th>\n",
    "      <th>Type</th>\n",
    "      <th>Description</th>\n",
    "    </tr>\n",
    "    <tr>\n",
    "      <td>age</td>\n",
    "      <td>Feature</td>\n",
    "      <td>Integer</td>\n",
    "      <td>Client's age in years</td>\n",
    "    </tr>\n",
    "    <tr>\n",
    "      <td>job</td>\n",
    "      <td>Feature</td>\n",
    "      <td>Categorical</td>\n",
    "      <td>Occupation (type of job)</td>\n",
    "    </tr>\n",
    "    <tr>\n",
    "      <td>marital</td>\n",
    "      <td>Feature</td>\n",
    "      <td>Categorical</td>\n",
    "      <td>Marital Status (married, single, divorced, unknown)</td>\n",
    "    </tr>\n",
    "    <tr>\n",
    "      <td>education</td>\n",
    "      <td>Feature</td>\n",
    "      <td>Categorical</td>\n",
    "      <td>Education Level (basic.4y, basic.6y, basic.9y, high.school, illiterate, professional.course, university.degree, unknown)</td>\n",
    "    </tr>\n",
    "    <tr>\n",
    "      <td>default</td>\n",
    "      <td>Feature</td>\n",
    "      <td>Binary</td>\n",
    "      <td>Has credit in default?</td>\n",
    "    </tr>\n",
    "    <tr>\n",
    "      <td>balance</td>\n",
    "      <td>Feature</td>\n",
    "      <td>Integer</td>\n",
    "      <td>Average yearly balance (euros)</td>\n",
    "    </tr>\n",
    "    <tr>\n",
    "      <td>housing</td>\n",
    "      <td>Feature</td>\n",
    "      <td>Binary</td>\n",
    "      <td>Has housing loan?</td>\n",
    "    </tr>\n",
    "    <tr>\n",
    "      <td>loan</td>\n",
    "      <td>Feature</td>\n",
    "      <td>Binary</td>\n",
    "      <td>Has personal loan?</td>\n",
    "    </tr>\n",
    "    <tr>\n",
    "      <td>contact</td>\n",
    "      <td>Feature</td>\n",
    "      <td>Categorical</td>\n",
    "      <td>Contact communication type (cellular, telephone)</td>\n",
    "    </tr>\n",
    "    <tr>\n",
    "      <td>day_of_week</td>\n",
    "      <td>Feature</td>\n",
    "      <td>Date</td>\n",
    "      <td>Last contact day of the week</td>\n",
    "    </tr>\n",
    "    <tr>\n",
    "      <td>month</td>\n",
    "      <td>Feature</td>\n",
    "      <td>Date</td>\n",
    "      <td>Last contact month of year (jan, feb, mar, ..., nov, dec)</td>\n",
    "    </tr>\n",
    "    <tr>\n",
    "      <td>duration</td>\n",
    "      <td>Feature</td>\n",
    "      <td>Integer</td>\n",
    "      <td>Last contact duration in seconds (important for benchmark purposes only)</td>\n",
    "    </tr>\n",
    "    <tr>\n",
    "      <td>campaign</td>\n",
    "      <td>Feature</td>\n",
    "      <td>Integer</td>\n",
    "      <td>Number of contacts performed during this campaign (includes last contact)</td>\n",
    "    </tr>\n",
    "    <tr>\n",
    "      <td>pdays</td>\n",
    "      <td>Feature</td>\n",
    "      <td>Integer</td>\n",
    "      <td>Number of days since last contact from previous campaign (-1 means not previously contacted)</td>\n",
    "    </tr>\n",
    "    <tr>\n",
    "      <td>previous</td>\n",
    "      <td>Feature</td>\n",
    "      <td>Integer</td>\n",
    "      <td>Number of contacts performed before this campaign</td>\n",
    "    </tr>\n",
    "    <tr>\n",
    "      <td>poutcome</td>\n",
    "      <td>Feature</td>\n",
    "      <td>Categorical</td>\n",
    "      <td>Outcome of the previous marketing campaign (failure, nonexistent, success)</td>\n",
    "    </tr>\n",
    "    <tr>\n",
    "      <td>y</td>\n",
    "      <td>Target</td>\n",
    "      <td>Binary</td>\n",
    "      <td>Subscribed to term deposit (yes/no)</td>\n",
    "    </tr>\n",
    "  </table>\n",
    "</body>\n",
    "</html>\n"
   ]
  },
  {
   "cell_type": "markdown",
   "id": "0fd300e6",
   "metadata": {},
   "source": [
    "<h2>Importing the necessary libraries</h2>"
   ]
  },
  {
   "cell_type": "code",
   "execution_count": null,
   "id": "85d26aab",
   "metadata": {},
   "outputs": [],
   "source": [
    "import numpy as np\n",
    "import pandas as pd\n",
    "import matplotlib.pyplot as plt\n",
    "import seaborn as sns\n",
    "import warnings\n",
    "warnings.filterwarnings('ignore')\n",
    "%matplotlib inline"
   ]
  },
  {
   "cell_type": "markdown",
   "id": "9148e32c",
   "metadata": {},
   "source": [
    "<h2>Reading the dataset</h2>"
   ]
  },
  {
   "cell_type": "code",
   "execution_count": null,
   "id": "59e52284",
   "metadata": {},
   "outputs": [],
   "source": [
    "url = 'https://github.com/karthi-1212/PRODIGY_DS_03/raw/main/modified_bank_data.csv'\n",
    "df= pd.read_csv(url)\n",
    "df.head(5)"
   ]
  },
  {
   "cell_type": "code",
   "execution_count": null,
   "id": "a1379123",
   "metadata": {},
   "outputs": [],
   "source": [
    "df.rename(columns={'y':'subscribed_deposit'}, inplace=True)"
   ]
  },
  {
   "cell_type": "code",
   "execution_count": null,
   "id": "012878ce",
   "metadata": {},
   "outputs": [],
   "source": [
    "df.info()"
   ]
  },
  {
   "cell_type": "markdown",
   "id": "f65a2193",
   "metadata": {},
   "source": [
    "<h3>Cheking for null or dupliacte values & dropping them </h3>"
   ]
  },
  {
   "cell_type": "code",
   "execution_count": null,
   "id": "507dc8dc",
   "metadata": {},
   "outputs": [],
   "source": [
    "df.isnull().sum().sum()"
   ]
  },
  {
   "cell_type": "code",
   "execution_count": null,
   "id": "fb7075ca",
   "metadata": {},
   "outputs": [],
   "source": [
    "df.duplicated().sum()"
   ]
  },
  {
   "cell_type": "code",
   "execution_count": null,
   "id": "a7d128a8",
   "metadata": {},
   "outputs": [],
   "source": [
    "df.drop_duplicates(inplace=True)"
   ]
  },
  {
   "cell_type": "code",
   "execution_count": null,
   "id": "4b7d1ecd",
   "metadata": {},
   "outputs": [],
   "source": [
    "df.duplicated().sum()"
   ]
  },
  {
   "cell_type": "markdown",
   "id": "838b4934",
   "metadata": {},
   "source": [
    "<h3>Visualization(Num cols) - Histogram and bar grpah </h2>"
   ]
  },
  {
   "cell_type": "code",
   "execution_count": null,
   "id": "2dafda75",
   "metadata": {},
   "outputs": [],
   "source": [
    "df_obj= df.select_dtypes(include='object').columns\n",
    "df_num= df.select_dtypes(exclude='object').columns\n",
    "\n",
    "for feature in df_num:\n",
    "    sns.histplot(x=feature,data=df,bins=25,kde=True,color='#5f366e')\n",
    "    plt.show()\n"
   ]
  },
  {
   "cell_type": "code",
   "execution_count": null,
   "id": "2051f3da",
   "metadata": {},
   "outputs": [],
   "source": [
    "for feature in df_obj:\n",
    "    plt.figure(figsize=(8,3))\n",
    "    plt.title(f\"Count plot of {feature}\")\n",
    "    sns.countplot(x=feature,data=df,palette='viridis')\n",
    "    plt.xticks(rotation=40)\n",
    "    plt.show()"
   ]
  },
  {
   "cell_type": "markdown",
   "id": "c72297da",
   "metadata": {},
   "source": [
    "<h3>Observations & Insights:</h3>\n",
    "  <table align=\"left\">\n",
    "    <tr>\n",
    "      <th>Category</th>\n",
    "      <th>Observation</th>\n",
    "    </tr>\n",
    "    <tr>\n",
    "      <td>Job</td>\n",
    "      <td>Most clients are admins.</td>\n",
    "    </tr>\n",
    "    <tr>\n",
    "      <td>Marital Status</td>\n",
    "      <td>Most clients are married.</td>\n",
    "    </tr>\n",
    "    <tr>\n",
    "      <td>Education</td>\n",
    "      <td>Most clients have a university degree.</td>\n",
    "    </tr>\n",
    "    <tr>\n",
    "      <td>Credit Default</td>\n",
    "      <td>Most clients have no default.</td>\n",
    "    </tr>\n",
    "    <tr>\n",
    "      <td>Housing Loan</td>\n",
    "      <td>Most clients have a housing loan.</td>\n",
    "    </tr>\n",
    "    <tr>\n",
    "      <td>Personal Loan</td>\n",
    "      <td>Most clients do not have a personal loan.</td>\n",
    "    </tr>\n",
    "    <tr>\n",
    "      <td>Contact Method</td>\n",
    "      <td>Cellular is the preferred method.</td>\n",
    "    </tr>\n",
    "    <tr>\n",
    "      <td>Contact Month</td>\n",
    "      <td>May is the most frequent month.</td>\n",
    "    </tr>\n",
    "    <tr>\n",
    "      <td>Contact Day</td>\n",
    "      <td>Thursday is the most common day.</td>\n",
    "    </tr>\n",
    "    <tr>\n",
    "      <td>Previous Marketing Outcome</td>\n",
    "      <td>\"Nonexistent\" is the most frequent outcome.</td>\n",
    "    </tr>\n",
    "    <tr>\n",
    "      <td>Target</td>\n",
    "      <td>Most clients haven't subscribed to a term deposit.</td>\n",
    "    </tr>\n",
    "  </table>\n",
    "</body>"
   ]
  },
  {
   "cell_type": "markdown",
   "id": "27b2ba84",
   "metadata": {},
   "source": [
    "<h2>checking for outliers & Treatment for it</h2>"
   ]
  },
  {
   "cell_type": "code",
   "execution_count": null,
   "id": "1ed3a435",
   "metadata": {},
   "outputs": [],
   "source": [
    "df.plot(kind='box', subplots=True, layout=(5,2), figsize=(10,30))\n",
    "plt.show()"
   ]
  },
  {
   "cell_type": "code",
   "execution_count": null,
   "id": "0cc166c0",
   "metadata": {},
   "outputs": [],
   "source": [
    "columns = ['age', 'campaign', 'duration']\n",
    "\n",
    "for column in columns:\n",
    "    q1 = np.percentile(df[column], 25)\n",
    "    q3 = np.percentile(df[column], 75)\n",
    "    iqr = q3 - q1\n",
    "    lower_bound = q1 - 1.5 * iqr\n",
    "    upper_bound = q3 + 1.5 * iqr\n",
    "    # Filter the DataFrame for the current column\n",
    "    df = df[(df[column] >= lower_bound) & (df[column] <= upper_bound)]\n",
    "df.plot(kind='box', subplots=True, layout=(5,2), figsize=(10,30))\n",
    "plt.show()"
   ]
  },
  {
   "cell_type": "markdown",
   "id": "702224d3",
   "metadata": {},
   "source": [
    "<h3>Checking for correlation using heatmap</h3>"
   ]
  },
  {
   "cell_type": "code",
   "execution_count": null,
   "id": "4f95d324",
   "metadata": {},
   "outputs": [],
   "source": [
    "# Select only the numerical columns\n",
    "numerical_df = df.select_dtypes(include=[np.number])\n",
    "\n",
    "# Create the heatmap\n",
    "plt.figure(figsize=(10, 8))\n",
    "sns.heatmap(numerical_df.corr(), annot=True, cmap='coolwarm', vmin=-1, vmax=1)\n",
    "plt.title('Correlation Matrix Heatmap')\n",
    "plt.show()"
   ]
  },
  {
   "cell_type": "code",
   "execution_count": null,
   "id": "2ebf117d",
   "metadata": {},
   "outputs": [],
   "source": [
    "high_corr_cols = ['emp.var.rate','euribor3m','nr.employed']\n",
    "# copy the original dataframe\n",
    "\n",
    "df1=df.copy()\n",
    "\n",
    "# Removing high correlated columns from the dataset\n",
    "df1.drop(high_corr_cols, inplace=True, axis=1)\n",
    "df1.columns"
   ]
  },
  {
   "cell_type": "markdown",
   "id": "249201d4",
   "metadata": {},
   "source": [
    "<h3>Conversion of categorical columns into numerical columns using label encoder.<h3>"
   ]
  },
  {
   "cell_type": "code",
   "execution_count": null,
   "id": "88844e54",
   "metadata": {},
   "outputs": [],
   "source": [
    "from sklearn.preprocessing import LabelEncoder\n",
    "le = LabelEncoder()\n",
    "df_encoded = df1.apply(le.fit_transform)\n",
    "df_encoded"
   ]
  },
  {
   "cell_type": "markdown",
   "id": "a9eee775",
   "metadata": {},
   "source": [
    "<h3>Checking the target variable</h3>"
   ]
  },
  {
   "cell_type": "code",
   "execution_count": null,
   "id": "dbf06991",
   "metadata": {},
   "outputs": [],
   "source": [
    "df_encoded['subscribed_deposit'].value_counts(normalize=True)*100"
   ]
  },
  {
   "cell_type": "code",
   "execution_count": null,
   "id": "e90b7407",
   "metadata": {},
   "outputs": [],
   "source": [
    "# Independent Var\n",
    "x=df_encoded.iloc[:,:-1]\n",
    "# Target var\n",
    "y=df_encoded.iloc[:,-1]"
   ]
  },
  {
   "cell_type": "code",
   "execution_count": null,
   "id": "00e7c572",
   "metadata": {},
   "outputs": [],
   "source": [
    "x.shape;y.shape"
   ]
  },
  {
   "cell_type": "markdown",
   "id": "68c87bc1",
   "metadata": {},
   "source": [
    "<h3>Splitting the dataset into train and test datasets <h3>"
   ]
  },
  {
   "cell_type": "code",
   "execution_count": null,
   "id": "311e41b6",
   "metadata": {},
   "outputs": [],
   "source": [
    "from sklearn.model_selection import train_test_split\n",
    "x_train, x_test, y_train, y_test = train_test_split(x,y,test_size=0.3,random_state=1)\n",
    "print(x_train.shape)\n",
    "print(x_test.shape)\n",
    "print(y_train.shape)\n",
    "print(y_test.shape)"
   ]
  },
  {
   "cell_type": "markdown",
   "id": "d54574f8",
   "metadata": {},
   "source": [
    "<h3>Decision Tree classifier</h3>"
   ]
  },
  {
   "cell_type": "code",
   "execution_count": null,
   "id": "d3d36ccb",
   "metadata": {},
   "outputs": [],
   "source": [
    "from sklearn.tree import DecisionTreeClassifier\n",
    "dc = DecisionTreeClassifier(criterion='gini',max_depth=5,min_samples_split=10)\n",
    "dc.fit(x_train,y_train)"
   ]
  },
  {
   "cell_type": "markdown",
   "id": "c109bb8a",
   "metadata": {},
   "source": [
    "<B>Please rerun this cell in a Jupyter environment to display the HTML representation or trust the notebook. On GitHub, the HTML representation may not render correctly; consider accessing the page through nbviewer.org for proper display.</B>"
   ]
  },
  {
   "cell_type": "code",
   "execution_count": null,
   "id": "b844356c",
   "metadata": {},
   "outputs": [],
   "source": [
    "#Evaluating Training and Testing Accuracy\n",
    "\n",
    "print(\"Training accuracy:\",dc.score(x_train,y_train))\n",
    "print(\"Testing accuracy:\",dc.score(x_test,y_test))"
   ]
  },
  {
   "cell_type": "code",
   "execution_count": null,
   "id": "2b035a2f",
   "metadata": {},
   "outputs": [],
   "source": [
    "y_pred=dc.predict(x_test)"
   ]
  },
  {
   "cell_type": "code",
   "execution_count": null,
   "id": "8ddd80e5",
   "metadata": {},
   "outputs": [],
   "source": [
    "#Evaluating Prediction Accuracy\n",
    "from sklearn.metrics import confusion_matrix,classification_report,accuracy_score\n",
    "print(accuracy_score(y_test,y_pred))"
   ]
  },
  {
   "cell_type": "code",
   "execution_count": null,
   "id": "e09bcd4b",
   "metadata": {},
   "outputs": [],
   "source": [
    "print(confusion_matrix(y_test,y_pred))"
   ]
  },
  {
   "cell_type": "code",
   "execution_count": null,
   "id": "199ca3c5",
   "metadata": {},
   "outputs": [],
   "source": [
    "print(classification_report(y_test,y_pred))"
   ]
  },
  {
   "cell_type": "markdown",
   "id": "49818118",
   "metadata": {},
   "source": [
    "<h3>Plot Decision Tree</h3>"
   ]
  },
  {
   "cell_type": "code",
   "execution_count": null,
   "id": "73f79303",
   "metadata": {},
   "outputs": [],
   "source": [
    "from sklearn.tree import plot_tree\n",
    "feature_names=df.columns.tolist()\n",
    "plt.figure(figsize=(40,20))\n",
    "class_names=[\"class_0\",\"class_1\"]\n",
    "plot_tree(dc, feature_names=feature_names, class_names=class_names, filled=True,fontsize=12)\n",
    "plt.show()"
   ]
  },
  {
   "cell_type": "code",
   "execution_count": null,
   "id": "46522c83",
   "metadata": {},
   "outputs": [],
   "source": [
    "#Decision Tree classifier using 'entropy' criterion\n",
    "dc1=DecisionTreeClassifier(criterion='entropy',max_depth=5,min_samples_split=10)\n",
    "dc1.fit(x_train,y_train)"
   ]
  },
  {
   "cell_type": "markdown",
   "id": "e95add24",
   "metadata": {},
   "source": [
    "<B>Please rerun this cell in a Jupyter environment to display the HTML representation or trust the notebook. On GitHub, the HTML representation may not render correctly; consider accessing the page through nbviewer.org for proper display.</B>"
   ]
  },
  {
   "cell_type": "code",
   "execution_count": null,
   "id": "c7e0aeee",
   "metadata": {},
   "outputs": [],
   "source": [
    "#Evaluating Training and Testing Accuracy\n",
    "print(\"Training accuracy:\",dc1.score(x_train,y_train))\n",
    "print(\"Testing accuracy:\",dc1.score(x_test,y_test))"
   ]
  },
  {
   "cell_type": "code",
   "execution_count": null,
   "id": "9f49b6fa",
   "metadata": {},
   "outputs": [],
   "source": [
    "y1_pred=dc1.predict(x_test)"
   ]
  },
  {
   "cell_type": "code",
   "execution_count": null,
   "id": "cca8ab14",
   "metadata": {},
   "outputs": [],
   "source": [
    "#Evaluating Prediction Accuracy\n",
    "print(accuracy_score(y_test,y1_pred))"
   ]
  },
  {
   "cell_type": "code",
   "execution_count": null,
   "id": "afc8bc91",
   "metadata": {},
   "outputs": [],
   "source": [
    "print(confusion_matrix(y_test,y1_pred))"
   ]
  },
  {
   "cell_type": "code",
   "execution_count": null,
   "id": "bddd474c",
   "metadata": {},
   "outputs": [],
   "source": [
    "print(classification_report(y_test,y1_pred))"
   ]
  },
  {
   "cell_type": "code",
   "execution_count": null,
   "id": "5d64a7ae",
   "metadata": {},
   "outputs": [],
   "source": [
    "cn=['no','yes']\n",
    "fn=x_train.columns\n",
    "plt.figure(figsize=(40,20))\n",
    "plot_tree(dc1, feature_names=fn.tolist(), class_names=cn, filled=True,fontsize=12)\n",
    "plt.show()"
   ]
  },
  {
   "cell_type": "markdown",
   "id": "f68be10c",
   "metadata": {},
   "source": [
    "<h1>Conclusion</h1>"
   ]
  },
  {
   "cell_type": "markdown",
   "id": "8d243fc6",
   "metadata": {},
   "source": [
    "  <h2>Decision Tree Criteria: Gini vs. Entropy</h2>\n",
    "  <h3>Both Gini and Entropy Criteria Deliver Strong Results</h3>\n",
    "  <p>When comparing Gini impurity and entropy as criteria for building decision trees, both methods achieve impressive accuracy:</p>\n",
    "  <ul>\n",
    "    <li>Training accuracy: Around 93.6% for both</li>\n",
    "    <li>Testing accuracy:</li>\n",
    "      <ul>\n",
    "        <li>Gini: Around 93.3%</li>\n",
    "        <li>Entropy: Around 93.2%</li>\n",
    "      </ul>\n",
    "  </ul>\n",
    "  <h3>Gini for Identifying True Positives</h3>\n",
    "  <p>While the difference in testing accuracy is minimal, Gini shows a slight advantage. It excels at correctly identifying positive instances (represented by class 1). This means Gini might be preferable when accurately predicting positive cases is crucial.</p>\n",
    "  <h3>Entropy for Reducing False Positives</h3>\n",
    "  <p>Entropy results in fewer false positives (incorrectly predicted positives) but comes at the cost of potentially missing some true positives (false negatives). This suggests using Entropy if minimizing false positives is a higher priority.</p>\n",
    "  <h3>Choosing the Right Criterion</h3>\n",
    "  <p>The best choice between Gini and Entropy depends on the specific application and its priorities. If accurately identifying true positives is paramount, Gini might be better. If minimizing false positives is the main concern, Entropy could be a better fit.</p>\n",
    "\n"
   ]
  }
 ],
 "metadata": {
  "kernelspec": {
   "display_name": "Python 3 (ipykernel)",
   "language": "python",
   "name": "python3"
  },
  "language_info": {
   "codemirror_mode": {
    "name": "ipython",
    "version": 3
   },
   "file_extension": ".py",
   "mimetype": "text/x-python",
   "name": "python",
   "nbconvert_exporter": "python",
   "pygments_lexer": "ipython3",
   "version": "3.11.3"
  }
 },
 "nbformat": 4,
 "nbformat_minor": 5
}
